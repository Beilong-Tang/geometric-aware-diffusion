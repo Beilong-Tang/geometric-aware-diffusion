{
 "cells": [
  {
   "cell_type": "code",
   "execution_count": 1,
   "id": "25ad6d39",
   "metadata": {},
   "outputs": [
    {
     "name": "stderr",
     "output_type": "stream",
     "text": [
      "/home/btang5/anaconda3/envs/ddpm_pytorch/lib/python3.9/site-packages/tqdm/auto.py:21: TqdmWarning: IProgress not found. Please update jupyter and ipywidgets. See https://ipywidgets.readthedocs.io/en/stable/user_install.html\n",
      "  from .autonotebook import tqdm as notebook_tqdm\n"
     ]
    }
   ],
   "source": [
    "import torch \n",
    "import lightning\n",
    "import sys \n",
    "import os\n",
    "sys.path.append(os.path.dirname(os.path.abspath(os.getcwd())))\n",
    "from lightning.pytorch.cli import LightningCLI\n",
    "import matplotlib.pyplot as plt"
   ]
  },
  {
   "cell_type": "code",
   "execution_count": 2,
   "id": "31d820a4",
   "metadata": {},
   "outputs": [],
   "source": [
    "from jsonargparse import ArgumentParser\n",
    "\n",
    "parser = ArgumentParser()\n",
    "parser.add_argument('--model', type=lightning.LightningModule) # to ignore model\n",
    "parser.add_argument('--data', type=lightning.LightningDataModule)\n",
    "parser.add_argument('--trainer', type=lightning.Trainer)\n",
    "config = parser.parse_path('/home/btang5/work/2025/geometric-aware-diffusion/config/diffusion/config_1.yaml')\n",
    "config.pop(\"trainer\", None)\n",
    "config_init = parser.instantiate_classes(config)\n",
    "model = config_init['model']"
   ]
  },
  {
   "cell_type": "code",
   "execution_count": 3,
   "id": "42428c03",
   "metadata": {},
   "outputs": [],
   "source": [
    "device=\"cuda:0\""
   ]
  },
  {
   "cell_type": "code",
   "execution_count": 4,
   "id": "39d820d7",
   "metadata": {},
   "outputs": [],
   "source": [
    "ckpt = torch.load(\"/home/btang5/work/2025/geometric-aware-diffusion/logs/geo_diff/lightning_logs/version_0/checkpoints/epoch=342-step=33614.ckpt\", map_location='cpu')"
   ]
  },
  {
   "cell_type": "code",
   "execution_count": 5,
   "id": "830ad6cf",
   "metadata": {},
   "outputs": [
    {
     "data": {
      "text/plain": [
       "GeometricDiffusionDecoderOnlyModule(\n",
       "  (geometric_decoder_only): GeometricDiffusionDecoderOnly(\n",
       "    (autoencoder): AutoEncoderModule(\n",
       "      (autoencoder): AdvancedAutoencoder(\n",
       "        (encoder): Sequential(\n",
       "          (0): Conv2d(3, 12, kernel_size=(4, 4), stride=(2, 2), padding=(1, 1))\n",
       "          (1): BatchNorm2d(12, eps=1e-05, momentum=0.1, affine=True, track_running_stats=True)\n",
       "          (2): ReLU()\n",
       "          (3): Conv2d(12, 24, kernel_size=(4, 4), stride=(2, 2), padding=(1, 1))\n",
       "          (4): BatchNorm2d(24, eps=1e-05, momentum=0.1, affine=True, track_running_stats=True)\n",
       "          (5): ReLU()\n",
       "          (6): Conv2d(24, 48, kernel_size=(4, 4), stride=(2, 2), padding=(1, 1))\n",
       "          (7): BatchNorm2d(48, eps=1e-05, momentum=0.1, affine=True, track_running_stats=True)\n",
       "          (8): ReLU()\n",
       "          (9): Flatten(start_dim=1, end_dim=-1)\n",
       "          (10): Linear(in_features=768, out_features=128, bias=True)\n",
       "        )\n",
       "        (decoder): Sequential(\n",
       "          (0): Linear(in_features=128, out_features=768, bias=True)\n",
       "          (1): ReLU()\n",
       "          (2): Unflatten(dim=1, unflattened_size=(48, 4, 4))\n",
       "          (3): ConvTranspose2d(48, 24, kernel_size=(4, 4), stride=(2, 2), padding=(1, 1))\n",
       "          (4): BatchNorm2d(24, eps=1e-05, momentum=0.1, affine=True, track_running_stats=True)\n",
       "          (5): ReLU()\n",
       "          (6): ConvTranspose2d(24, 12, kernel_size=(4, 4), stride=(2, 2), padding=(1, 1))\n",
       "          (7): BatchNorm2d(12, eps=1e-05, momentum=0.1, affine=True, track_running_stats=True)\n",
       "          (8): ReLU()\n",
       "          (9): ConvTranspose2d(12, 3, kernel_size=(4, 4), stride=(2, 2), padding=(1, 1))\n",
       "          (10): Sigmoid()\n",
       "        )\n",
       "      )\n",
       "    )\n",
       "    (geometric): GeometricEmbedding(\n",
       "      (arc): ArcLengthEmbed(\n",
       "        (positional): PositionalEmbedding(\n",
       "          (mlp): Linear(in_features=1, out_features=16, bias=True)\n",
       "        )\n",
       "      )\n",
       "      (curv): CurvatureEmbedding()\n",
       "    )\n",
       "    (diffusion): Diffusion()\n",
       "    (geometric_decoder_only): GeometricDecoderOnly(\n",
       "      (decoder_only): DecoderOnlyTransformer(\n",
       "        (transformer_encoder): TransformerEncoder(\n",
       "          (layers): ModuleList(\n",
       "            (0-11): 12 x TransformerEncoderLayer(\n",
       "              (self_attn): MultiheadAttention(\n",
       "                (out_proj): NonDynamicallyQuantizableLinear(in_features=288, out_features=288, bias=True)\n",
       "              )\n",
       "              (linear1): Linear(in_features=288, out_features=2048, bias=True)\n",
       "              (dropout): Dropout(p=0.1, inplace=False)\n",
       "              (linear2): Linear(in_features=2048, out_features=288, bias=True)\n",
       "              (norm1): LayerNorm((288,), eps=1e-05, elementwise_affine=True)\n",
       "              (norm2): LayerNorm((288,), eps=1e-05, elementwise_affine=True)\n",
       "              (dropout1): Dropout(p=0.1, inplace=False)\n",
       "              (dropout2): Dropout(p=0.1, inplace=False)\n",
       "            )\n",
       "          )\n",
       "        )\n",
       "        (linear): Linear(in_features=288, out_features=288, bias=True)\n",
       "      )\n",
       "    )\n",
       "  )\n",
       ")"
      ]
     },
     "execution_count": 5,
     "metadata": {},
     "output_type": "execute_result"
    }
   ],
   "source": [
    "model.load_state_dict(ckpt['state_dict'])\n",
    "model.eval()\n",
    "model.to(device)"
   ]
  },
  {
   "cell_type": "code",
   "execution_count": 6,
   "id": "bf55057b",
   "metadata": {},
   "outputs": [
    {
     "name": "stdout",
     "output_type": "stream",
     "text": [
      "Files already downloaded and verified\n"
     ]
    }
   ],
   "source": [
    "config_init['data'].setup(\"test\")"
   ]
  },
  {
   "cell_type": "code",
   "execution_count": 7,
   "id": "22cc45ab",
   "metadata": {},
   "outputs": [],
   "source": [
    "testset = config_init['data'].valset"
   ]
  },
  {
   "cell_type": "code",
   "execution_count": 8,
   "id": "e2c65bdb",
   "metadata": {},
   "outputs": [
    {
     "name": "stdout",
     "output_type": "stream",
     "text": [
      "torch.Size([1, 3, 32, 32])\n"
     ]
    }
   ],
   "source": [
    "img = None\n",
    "ct = 4\n",
    "for _idx, i in enumerate(testset):\n",
    "    img = i[0].unsqueeze(0).to(device)\n",
    "    if _idx == ct:\n",
    "        break\n",
    "print(img.shape)"
   ]
  },
  {
   "cell_type": "code",
   "execution_count": 46,
   "id": "0b755544",
   "metadata": {},
   "outputs": [],
   "source": [
    "@torch.no_grad()\n",
    "def get_intermediate(decoder_only, img):\n",
    "    def inference(self, xT):\n",
    "        # xT: [B, D] or [B, 1, D]\n",
    "        # T: inference time step\n",
    "        # Return [B,D]\n",
    "        if len(xT.shape) == 2:\n",
    "            xT = xT.unsqueeze(1)  # [B, 1, D]\n",
    "        res = [xT]\n",
    "        for _ in range(0, self.T):\n",
    "            input = torch.cat(res, dim=1)  # [B, T, D]\n",
    "            output = self.decoder_only(input)  # [B, T, D]\n",
    "            res.append(output[:, -1:])  # [B, 1, D]\n",
    "        return res[-1].squeeze(1), torch.cat(res, dim = 1)  # [B. D]\n",
    "    model = decoder_only\n",
    "    z = model.autoencoder.encode(img)\n",
    "    samples_img = model.diffusion.sample(z)\n",
    "    tokens = model.geometric(samples_img)\n",
    "    print(\"Tokens shape:\", tokens.shape)\n",
    "    xT_token = tokens[:, -1:]  # [B, 1, D] the token corresponding to xT\n",
    "    out, intermediate = inference(model.geometric_decoder_only, xT_token)\n",
    "    out = out[:, : model.autoencoder.get_emb_dim()]\n",
    "    img = model.autoencoder.decode(out)\n",
    "    result = {}\n",
    "    result[\"encoded\"] = model.autoencoder.decode(z)\n",
    "    return img, result, intermediate, xT_token\n",
    "\n",
    "import tqdm\n",
    "@torch.no_grad()\n",
    "def get_images(autoencoder, latents):\n",
    "    res = []\n",
    "    for i in tqdm.tqdm(latents.squeeze(0)):\n",
    "        decoded = autoencoder.decode(i[:autoencoder.get_emb_dim()].unsqueeze(0)) # [1, C, H, W]\n",
    "        res.append(decoded)\n",
    "    return torch.concat(res, dim = 0)"
   ]
  },
  {
   "cell_type": "code",
   "execution_count": 45,
   "id": "1890f12a",
   "metadata": {},
   "outputs": [
    {
     "name": "stdout",
     "output_type": "stream",
     "text": [
      "Tokens shape: torch.Size([1, 301, 288])\n"
     ]
    }
   ],
   "source": [
    "out = get_intermediate(decoder_only=model.geometric_decoder_only, img = img)"
   ]
  },
  {
   "cell_type": "code",
   "execution_count": 34,
   "id": "6646ddc6",
   "metadata": {},
   "outputs": [
    {
     "name": "stdout",
     "output_type": "stream",
     "text": [
      "torch.Size([1, 301, 288])\n"
     ]
    }
   ],
   "source": [
    "intermediate = out[2]\n",
    "print(intermediate.shape)"
   ]
  },
  {
   "cell_type": "code",
   "execution_count": 47,
   "id": "902d8fcd",
   "metadata": {},
   "outputs": [
    {
     "name": "stdout",
     "output_type": "stream",
     "text": [
      "torch.Size([1, 1, 288])\n"
     ]
    }
   ],
   "source": [
    "x_T = out[-1]\n",
    "print(x_T.shape)"
   ]
  },
  {
   "cell_type": "code",
   "execution_count": 48,
   "id": "4db8256a",
   "metadata": {},
   "outputs": [],
   "source": [
    "token_img = model.geometric_decoder_only.autoencoder.decode(x_T.squeeze(0)[:,:128])"
   ]
  },
  {
   "cell_type": "code",
   "execution_count": 50,
   "id": "b11a3e44",
   "metadata": {},
   "outputs": [
    {
     "data": {
      "text/plain": [
       "torch.Size([1, 3, 32, 32])"
      ]
     },
     "execution_count": 50,
     "metadata": {},
     "output_type": "execute_result"
    }
   ],
   "source": [
    "token_img.shape"
   ]
  },
  {
   "cell_type": "code",
   "execution_count": null,
   "id": "a3688760",
   "metadata": {},
   "outputs": [],
   "source": [
    "token_img"
   ]
  },
  {
   "cell_type": "code",
   "execution_count": 39,
   "id": "53f2275b",
   "metadata": {},
   "outputs": [
    {
     "name": "stderr",
     "output_type": "stream",
     "text": [
      "100%|██████████| 301/301 [00:00<00:00, 1472.21it/s]\n"
     ]
    }
   ],
   "source": [
    "imgs = get_images(model.geometric_decoder_only.autoencoder, intermediate)"
   ]
  },
  {
   "cell_type": "code",
   "execution_count": 51,
   "id": "6763193d",
   "metadata": {},
   "outputs": [
    {
     "data": {
      "text/plain": [
       "<matplotlib.image.AxesImage at 0x7fcac9542640>"
      ]
     },
     "execution_count": 51,
     "metadata": {},
     "output_type": "execute_result"
    },
    {
     "data": {
      "image/png": "[encoded data removed]",
      "text/plain": [
       "<Figure size 640x480 with 1 Axes>"
      ]
     },
     "metadata": {},
     "output_type": "display_data"
    }
   ],
   "source": [
    "plt.imshow(token_img[0].cpu().squeeze(0).permute(1,2,0))"
   ]
  },
  {
   "cell_type": "code",
   "execution_count": 40,
   "id": "026efe49",
   "metadata": {},
   "outputs": [
    {
     "data": {
      "text/plain": [
       "torch.Size([3, 32, 32])"
      ]
     },
     "execution_count": 40,
     "metadata": {},
     "output_type": "execute_result"
    }
   ],
   "source": [
    "imgs[0].shape"
   ]
  },
  {
   "cell_type": "code",
   "execution_count": 27,
   "id": "ca1a110e",
   "metadata": {},
   "outputs": [
    {
     "data": {
      "text/plain": [
       "torch.Size([1, 3, 32, 32])"
      ]
     },
     "execution_count": 27,
     "metadata": {},
     "output_type": "execute_result"
    }
   ],
   "source": [
    "out[0].shape"
   ]
  },
  {
   "cell_type": "code",
   "execution_count": 24,
   "id": "00efd745",
   "metadata": {},
   "outputs": [],
   "source": [
    "latent = model.geometric_decoder_only.autoencoder.encode(img)\n",
    "out = model.geometric_decoder_only.autoencoder.decode(latent)"
   ]
  },
  {
   "cell_type": "code",
   "execution_count": 43,
   "id": "b7b6a991",
   "metadata": {},
   "outputs": [
    {
     "data": {
      "text/plain": [
       "<matplotlib.image.AxesImage at 0x7fcac9741310>"
      ]
     },
     "execution_count": 43,
     "metadata": {},
     "output_type": "execute_result"
    },
    {
     "data": {
      "image/png": "[encoded data removed]",
      "text/plain": [
       "<Figure size 640x480 with 1 Axes>"
      ]
     },
     "metadata": {},
     "output_type": "display_data"
    }
   ],
   "source": [
    "plt.imshow(imgs[0].cpu().squeeze(0).permute(1,2,0))"
   ]
  },
  {
   "cell_type": "code",
   "execution_count": 14,
   "id": "31d17055",
   "metadata": {},
   "outputs": [
    {
     "data": {
      "text/plain": [
       "<matplotlib.image.AxesImage at 0x7fcae1c10850>"
      ]
     },
     "execution_count": 14,
     "metadata": {},
     "output_type": "execute_result"
    },
    {
     "data": {
      "image/png": "[encoded data removed]",
      "text/plain": [
       "<Figure size 640x480 with 1 Axes>"
      ]
     },
     "metadata": {},
     "output_type": "display_data"
    }
   ],
   "source": [
    "plt.imshow(img[0].cpu().squeeze(0).permute(1,2,0))"
   ]
  },
  {
   "cell_type": "code",
   "execution_count": null,
   "id": "a27223ae",
   "metadata": {},
   "outputs": [],
   "source": []
  }
 ],
 "metadata": {
  "kernelspec": {
   "display_name": "ddpm_pytorch",
   "language": "python",
   "name": "python3"
  },
  "language_info": {
   "codemirror_mode": {
    "name": "ipython",
    "version": 3
   },
   "file_extension": ".py",
   "mimetype": "text/x-python",
   "name": "python",
   "nbconvert_exporter": "python",
   "pygments_lexer": "ipython3",
   "version": "3.9.18"
  }
 },
 "nbformat": 4,
 "nbformat_minor": 5
}
